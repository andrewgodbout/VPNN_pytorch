{
 "cells": [
  {
   "cell_type": "code",
   "execution_count": null,
   "metadata": {},
   "outputs": [],
   "source": [
    "import torch\n",
    "import torchvision\n",
    "from torchvision.transforms.transforms import Compose\n",
    "from tools.training_cycle import fit\n",
    "from sklearn.metrics import confusion_matrix\n",
    "from matplotlib import pyplot\n",
    "import seaborn as sns\n",
    "from tools.ARCENE_loader import arcene_load\n",
    "sns.set()"
   ]
  },
  {
   "cell_type": "markdown",
   "metadata": {},
   "source": [
    "download at https://archive.ics.uci.edu/ml/datasets/Arcene <br>\n",
    "loads directly into memory, 64 MB<br>\n",
    "expects '/ARCENE/arcene_valid.labels', '/ARCENE/arcene_valid.data', '/ARCENE/arcene_train.labels', '/ARCENE/arcene_train.data' in folder DATA_PATH <br>\n",
    "\n",
    "100 instances of 10k attributes in test and train\n",
    "\n",
    "replaces -1 labels with 1"
   ]
  },
  {
   "cell_type": "code",
   "execution_count": null,
   "metadata": {},
   "outputs": [],
   "source": [
    "bs = 10\n",
    "lr = 0.0001\n",
    "epochs = 100\n",
    "INP_SIZE = 10000\n",
    "OUTP_SIZE = 2"
   ]
  },
  {
   "cell_type": "code",
   "execution_count": null,
   "metadata": {},
   "outputs": [],
   "source": [
    "# model selection\n",
    "from models.mixed1 import Mixed1\n",
    "from models.mixed2 import Mixed2\n",
    "from models.vpnn import Vpnn\n",
    "from models.vpnn_t import Vpnn_t\n",
    "from models.s_relu import S_ReLU\n",
    "\n",
    "model = Vpnn(INP_SIZE, OUTP_SIZE, hidden_layers=3,rotations=3,\n",
    "             chebyshev_M=2, diagonal_M=0.01, svd_u=True)\n",
    "\n",
    "if torch.cuda.is_available():\n",
    "    model = model.cuda()\n",
    "\n",
    "opt = torch.optim.SGD(model.parameters(), lr, momentum=0.9)\n",
    "loss_funct = torch.nn.CrossEntropyLoss()"
   ]
  },
  {
   "cell_type": "code",
   "execution_count": null,
   "metadata": {},
   "outputs": [],
   "source": [
    "DATA_PATH = \"data\"  # MNIST data folder\n",
    "FILE_PATH = ''  # path for saving data/model"
   ]
  },
  {
   "cell_type": "code",
   "execution_count": null,
   "metadata": {},
   "outputs": [],
   "source": [
    "# by default, data is 920x14, 13 attributes and 14th column labels\n",
    "\n",
    "# list of functions that operate on data on load - acts on torch tensor\n",
    "PREPROCESSING = Compose([])\n",
    "\n",
    "\n",
    "train_ds, valid_ds = arcene_load(DATA_PATH, preprocessing=PREPROCESSING)\n",
    "\n",
    "train_dl = torch.utils.data.DataLoader(\n",
    "    train_ds, batch_size=bs, shuffle=True, pin_memory=True\n",
    ")\n",
    "valid_dl = torch.utils.data.DataLoader(\n",
    "    valid_ds, batch_size=bs * 2, pin_memory=True\n",
    ")"
   ]
  },
  {
   "cell_type": "code",
   "execution_count": null,
   "metadata": {
    "scrolled": true
   },
   "outputs": [],
   "source": [
    "# run training cycle\n",
    "data=fit(model, loss_funct, train_dl, valid_dl, opt, epochs, one_hot_size=2)"
   ]
  },
  {
   "cell_type": "code",
   "execution_count": null,
   "metadata": {},
   "outputs": [],
   "source": [
    "# shows graphs of losses and accuracies in ui\n",
    "pyplot.plot(data['losses'])\n",
    "pyplot.title('losses')\n",
    "pyplot.xlabel('training batch')\n",
    "pyplot.ylabel('loss')\n",
    "pyplot.show()\n",
    "\n",
    "pyplot.plot(data['accs'])\n",
    "pyplot.title('accuracy on validation data')\n",
    "pyplot.xlabel('epoch')\n",
    "pyplot.ylabel('% accuracy')\n",
    "pyplot.show()"
   ]
  },
  {
   "cell_type": "code",
   "execution_count": null,
   "metadata": {
    "scrolled": true
   },
   "outputs": [],
   "source": [
    "# confusion matrix\n",
    "mat=0\n",
    "from tools.helpers import expand, acc\n",
    "for x, y in valid_dl:\n",
    "    if torch.cuda.is_available():\n",
    "        x = x.cuda()\n",
    "    pred = model(x)\n",
    "    _, pred = torch.max(pred, 1)\n",
    "    mat += confusion_matrix(y.numpy(), pred.cpu().detach().numpy(), labels=list(range(2)))\n",
    "sns.heatmap(mat.T, square=True, annot=True, fmt='d', cbar=False,\n",
    "           xticklabels='auto', yticklabels='auto')\n",
    "pyplot.ylim(2,0)\n",
    "pyplot.xlabel('true label')\n",
    "pyplot.ylabel('predicted label')\n",
    "pyplot.show()"
   ]
  }
 ],
 "metadata": {
  "kernelspec": {
   "display_name": "Python 3",
   "language": "python",
   "name": "python3"
  },
  "language_info": {
   "codemirror_mode": {
    "name": "ipython",
    "version": 3
   },
   "file_extension": ".py",
   "mimetype": "text/x-python",
   "name": "python",
   "nbconvert_exporter": "python",
   "pygments_lexer": "ipython3",
   "version": "3.7.3"
  }
 },
 "nbformat": 4,
 "nbformat_minor": 2
}
